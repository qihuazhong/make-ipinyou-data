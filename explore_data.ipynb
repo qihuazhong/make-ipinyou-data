{
 "cells": [
  {
   "cell_type": "code",
   "execution_count": 197,
   "metadata": {},
   "outputs": [],
   "source": [
    "import pandas as pd\n",
    "import matplotlib.pyplot as plt\n",
    "import seaborn as sns\n",
    "import numpy as np\n",
    "from scipy import stats\n",
    "from scipy.optimize import curve_fit"
   ]
  },
  {
   "cell_type": "markdown",
   "metadata": {},
   "source": [
    "## Read bidding log for advertiser 2821"
   ]
  },
  {
   "cell_type": "code",
   "execution_count": 2,
   "metadata": {},
   "outputs": [
    {
     "data": {
      "text/html": [
       "<div>\n",
       "<style scoped>\n",
       "    .dataframe tbody tr th:only-of-type {\n",
       "        vertical-align: middle;\n",
       "    }\n",
       "\n",
       "    .dataframe tbody tr th {\n",
       "        vertical-align: top;\n",
       "    }\n",
       "\n",
       "    .dataframe thead th {\n",
       "        text-align: right;\n",
       "    }\n",
       "</style>\n",
       "<table border=\"1\" class=\"dataframe\">\n",
       "  <thead>\n",
       "    <tr style=\"text-align: right;\">\n",
       "      <th></th>\n",
       "      <th>click</th>\n",
       "      <th>weekday</th>\n",
       "      <th>hour</th>\n",
       "      <th>bidid</th>\n",
       "      <th>timestamp</th>\n",
       "      <th>logtype</th>\n",
       "      <th>ipinyouid</th>\n",
       "      <th>useragent</th>\n",
       "      <th>IP</th>\n",
       "      <th>region</th>\n",
       "      <th>...</th>\n",
       "      <th>slotheight</th>\n",
       "      <th>slotvisibility</th>\n",
       "      <th>slotformat</th>\n",
       "      <th>slotprice</th>\n",
       "      <th>creative</th>\n",
       "      <th>bidprice</th>\n",
       "      <th>payprice</th>\n",
       "      <th>keypage</th>\n",
       "      <th>advertiser</th>\n",
       "      <th>usertag</th>\n",
       "    </tr>\n",
       "  </thead>\n",
       "  <tbody>\n",
       "    <tr>\n",
       "      <th>0</th>\n",
       "      <td>0</td>\n",
       "      <td>1</td>\n",
       "      <td>19</td>\n",
       "      <td>49b5a58c3a3c39c32ba5a36f70a3daa5</td>\n",
       "      <td>20131021192300738</td>\n",
       "      <td>1</td>\n",
       "      <td>C4NDR12~1B</td>\n",
       "      <td>windows_ie</td>\n",
       "      <td>222.218.230.*</td>\n",
       "      <td>238</td>\n",
       "      <td>...</td>\n",
       "      <td>250</td>\n",
       "      <td>FirstView</td>\n",
       "      <td>Na</td>\n",
       "      <td>0</td>\n",
       "      <td>10722</td>\n",
       "      <td>294</td>\n",
       "      <td>201</td>\n",
       "      <td>NaN</td>\n",
       "      <td>2821</td>\n",
       "      <td>10063</td>\n",
       "    </tr>\n",
       "    <tr>\n",
       "      <th>1</th>\n",
       "      <td>0</td>\n",
       "      <td>1</td>\n",
       "      <td>21</td>\n",
       "      <td>a10d601d8d23a36921ce597e0fb327f1</td>\n",
       "      <td>20131021210002124</td>\n",
       "      <td>1</td>\n",
       "      <td>C8INvJAR60</td>\n",
       "      <td>windows_ie</td>\n",
       "      <td>218.107.8.*</td>\n",
       "      <td>216</td>\n",
       "      <td>...</td>\n",
       "      <td>90</td>\n",
       "      <td>FirstView</td>\n",
       "      <td>Na</td>\n",
       "      <td>30</td>\n",
       "      <td>10717</td>\n",
       "      <td>294</td>\n",
       "      <td>36</td>\n",
       "      <td>NaN</td>\n",
       "      <td>2821</td>\n",
       "      <td>10048,16751,14273,10117,10083,13776,10110,1340...</td>\n",
       "    </tr>\n",
       "    <tr>\n",
       "      <th>2</th>\n",
       "      <td>0</td>\n",
       "      <td>1</td>\n",
       "      <td>19</td>\n",
       "      <td>6dcedee2836180e18dfd4663930839be</td>\n",
       "      <td>20131021193302410</td>\n",
       "      <td>1</td>\n",
       "      <td>CAMK525fdzC</td>\n",
       "      <td>windows_ie</td>\n",
       "      <td>123.178.216.*</td>\n",
       "      <td>27</td>\n",
       "      <td>...</td>\n",
       "      <td>90</td>\n",
       "      <td>FirstView</td>\n",
       "      <td>Na</td>\n",
       "      <td>0</td>\n",
       "      <td>10717</td>\n",
       "      <td>294</td>\n",
       "      <td>268</td>\n",
       "      <td>NaN</td>\n",
       "      <td>2821</td>\n",
       "      <td>11278,10684,11576,11632,10083,10006,10110,1006...</td>\n",
       "    </tr>\n",
       "    <tr>\n",
       "      <th>3</th>\n",
       "      <td>0</td>\n",
       "      <td>1</td>\n",
       "      <td>21</td>\n",
       "      <td>1cb9ff52202db973f928f06be5c8ab36</td>\n",
       "      <td>20131021213601978</td>\n",
       "      <td>1</td>\n",
       "      <td>CAMLZkA3d4U</td>\n",
       "      <td>windows_chrome</td>\n",
       "      <td>113.123.67.*</td>\n",
       "      <td>146</td>\n",
       "      <td>...</td>\n",
       "      <td>90</td>\n",
       "      <td>Na</td>\n",
       "      <td>Na</td>\n",
       "      <td>20</td>\n",
       "      <td>10734</td>\n",
       "      <td>294</td>\n",
       "      <td>80</td>\n",
       "      <td>NaN</td>\n",
       "      <td>2821</td>\n",
       "      <td>10057,10067,10059,14273,10077,10075,10083,1386...</td>\n",
       "    </tr>\n",
       "    <tr>\n",
       "      <th>4</th>\n",
       "      <td>0</td>\n",
       "      <td>1</td>\n",
       "      <td>21</td>\n",
       "      <td>447c9c9a83cef3a3f198f7ffd63ed256</td>\n",
       "      <td>20131021214301540</td>\n",
       "      <td>1</td>\n",
       "      <td>CAQ6Ja1_bT7</td>\n",
       "      <td>windows_chrome</td>\n",
       "      <td>123.164.44.*</td>\n",
       "      <td>65</td>\n",
       "      <td>...</td>\n",
       "      <td>90</td>\n",
       "      <td>Na</td>\n",
       "      <td>Na</td>\n",
       "      <td>20</td>\n",
       "      <td>10734</td>\n",
       "      <td>294</td>\n",
       "      <td>160</td>\n",
       "      <td>NaN</td>\n",
       "      <td>2821</td>\n",
       "      <td>10140,10067,10059,10083,10129,10024,10006,1011...</td>\n",
       "    </tr>\n",
       "  </tbody>\n",
       "</table>\n",
       "<p>5 rows × 27 columns</p>\n",
       "</div>"
      ],
      "text/plain": [
       "   click  weekday  hour                             bidid          timestamp  \\\n",
       "0      0        1    19  49b5a58c3a3c39c32ba5a36f70a3daa5  20131021192300738   \n",
       "1      0        1    21  a10d601d8d23a36921ce597e0fb327f1  20131021210002124   \n",
       "2      0        1    19  6dcedee2836180e18dfd4663930839be  20131021193302410   \n",
       "3      0        1    21  1cb9ff52202db973f928f06be5c8ab36  20131021213601978   \n",
       "4      0        1    21  447c9c9a83cef3a3f198f7ffd63ed256  20131021214301540   \n",
       "\n",
       "   logtype    ipinyouid       useragent             IP  region  ...  \\\n",
       "0        1   C4NDR12~1B      windows_ie  222.218.230.*     238  ...   \n",
       "1        1   C8INvJAR60      windows_ie    218.107.8.*     216  ...   \n",
       "2        1  CAMK525fdzC      windows_ie  123.178.216.*      27  ...   \n",
       "3        1  CAMLZkA3d4U  windows_chrome   113.123.67.*     146  ...   \n",
       "4        1  CAQ6Ja1_bT7  windows_chrome   123.164.44.*      65  ...   \n",
       "\n",
       "   slotheight  slotvisibility slotformat slotprice  creative bidprice  \\\n",
       "0         250       FirstView         Na         0     10722      294   \n",
       "1          90       FirstView         Na        30     10717      294   \n",
       "2          90       FirstView         Na         0     10717      294   \n",
       "3          90              Na         Na        20     10734      294   \n",
       "4          90              Na         Na        20     10734      294   \n",
       "\n",
       "   payprice  keypage advertiser  \\\n",
       "0       201      NaN       2821   \n",
       "1        36      NaN       2821   \n",
       "2       268      NaN       2821   \n",
       "3        80      NaN       2821   \n",
       "4       160      NaN       2821   \n",
       "\n",
       "                                             usertag  \n",
       "0                                              10063  \n",
       "1  10048,16751,14273,10117,10083,13776,10110,1340...  \n",
       "2  11278,10684,11576,11632,10083,10006,10110,1006...  \n",
       "3  10057,10067,10059,14273,10077,10075,10083,1386...  \n",
       "4  10140,10067,10059,10083,10129,10024,10006,1011...  \n",
       "\n",
       "[5 rows x 27 columns]"
      ]
     },
     "execution_count": 2,
     "metadata": {},
     "output_type": "execute_result"
    }
   ],
   "source": [
    "df_2821 = pd.read_csv(\"2821/train.log.txt\", delimiter=\"\\t\")\n",
    "df_2821.head()"
   ]
  },
  {
   "cell_type": "markdown",
   "metadata": {},
   "source": [
    "### Inspect bid price\n",
    "\n",
    "Price unit: RMB/CPM\n",
    "\n",
    "`CPM`: cost per thousand impressions\n",
    "\n",
    "prices are linearly scaled for confidentiality"
   ]
  },
  {
   "cell_type": "code",
   "execution_count": 88,
   "metadata": {},
   "outputs": [
    {
     "data": {
      "text/plain": [
       "array([294, 277])"
      ]
     },
     "execution_count": 88,
     "metadata": {},
     "output_type": "execute_result"
    }
   ],
   "source": [
    "df_2821['bidprice'].unique()"
   ]
  },
  {
   "cell_type": "markdown",
   "metadata": {},
   "source": [
    "> This advertiser only bids on two different prices: 294 or 277"
   ]
  },
  {
   "cell_type": "markdown",
   "metadata": {},
   "source": [
    "### Bid price by ad exchange"
   ]
  },
  {
   "cell_type": "code",
   "execution_count": 6,
   "metadata": {},
   "outputs": [
    {
     "data": {
      "text/plain": [
       "array([2])"
      ]
     },
     "execution_count": 6,
     "metadata": {},
     "output_type": "execute_result"
    }
   ],
   "source": [
    "df_2821[df_2821['bidprice'] == 277]['adexchange'].unique()"
   ]
  },
  {
   "cell_type": "code",
   "execution_count": 7,
   "metadata": {},
   "outputs": [
    {
     "data": {
      "text/plain": [
       "array([1, 4, 3])"
      ]
     },
     "execution_count": 7,
     "metadata": {},
     "output_type": "execute_result"
    }
   ],
   "source": [
    "df_2821[df_2821['bidprice'] == 294]['adexchange'].unique()"
   ]
  },
  {
   "cell_type": "markdown",
   "metadata": {},
   "source": [
    ">This advertiser always send bid price of 277 for ad exchange 2 (Google), and 294 for 1(Alibaba), 3(Tencent), 4(Baidu)"
   ]
  },
  {
   "cell_type": "markdown",
   "metadata": {},
   "source": [
    "## Distribution of payprice, by ad exchange\n",
    "**Ad Exchange**\n",
    "\n",
    "- 1 - Tanx (Alibaba)\n",
    "- 2 - Adx (Google DoubleClick AdX)\n",
    "- 3 - Tencent (Tencent)\n",
    "- 4 - Baidu(Baidu)\n",
    "- 5 - Youku(Youku) - N/A for this advertiser\n",
    "- 6 - Amx(Google Mobile) - N/A for this advertiser"
   ]
  },
  {
   "cell_type": "code",
   "execution_count": 100,
   "metadata": {},
   "outputs": [
    {
     "data": {
      "image/png": "[encoded data removed]",
      "text/plain": [
       "<Figure size 1152x360 with 1 Axes>"
      ]
     },
     "metadata": {
      "needs_background": "light"
     },
     "output_type": "display_data"
    }
   ],
   "source": [
    "plt.subplots(figsize=(16,5))\n",
    "ax = sns.violinplot(x=\"adexchange\", y=\"payprice\", data=df_2821)\n",
    "plt.show()"
   ]
  },
  {
   "cell_type": "markdown",
   "metadata": {},
   "source": [
    "## Explore bidding on Ad Exchange 2 (Google Adx)"
   ]
  },
  {
   "cell_type": "code",
   "execution_count": 73,
   "metadata": {},
   "outputs": [
    {
     "data": {
      "text/html": [
       "<div>\n",
       "<style scoped>\n",
       "    .dataframe tbody tr th:only-of-type {\n",
       "        vertical-align: middle;\n",
       "    }\n",
       "\n",
       "    .dataframe tbody tr th {\n",
       "        vertical-align: top;\n",
       "    }\n",
       "\n",
       "    .dataframe thead th {\n",
       "        text-align: right;\n",
       "    }\n",
       "</style>\n",
       "<table border=\"1\" class=\"dataframe\">\n",
       "  <thead>\n",
       "    <tr style=\"text-align: right;\">\n",
       "      <th></th>\n",
       "      <th>click</th>\n",
       "      <th>weekday</th>\n",
       "      <th>hour</th>\n",
       "      <th>bidid</th>\n",
       "      <th>timestamp</th>\n",
       "      <th>logtype</th>\n",
       "      <th>ipinyouid</th>\n",
       "      <th>useragent</th>\n",
       "      <th>IP</th>\n",
       "      <th>region</th>\n",
       "      <th>...</th>\n",
       "      <th>slotheight</th>\n",
       "      <th>slotvisibility</th>\n",
       "      <th>slotformat</th>\n",
       "      <th>slotprice</th>\n",
       "      <th>creative</th>\n",
       "      <th>bidprice</th>\n",
       "      <th>payprice</th>\n",
       "      <th>keypage</th>\n",
       "      <th>advertiser</th>\n",
       "      <th>usertag</th>\n",
       "    </tr>\n",
       "  </thead>\n",
       "  <tbody>\n",
       "    <tr>\n",
       "      <th>1033018</th>\n",
       "      <td>0</td>\n",
       "      <td>2</td>\n",
       "      <td>15</td>\n",
       "      <td>cfdd7b8f6421720be4d30406fd8c4ddc</td>\n",
       "      <td>20131022151956815</td>\n",
       "      <td>1</td>\n",
       "      <td>DAMFJtCkxcK</td>\n",
       "      <td>windows_ie</td>\n",
       "      <td>60.177.27.*</td>\n",
       "      <td>94</td>\n",
       "      <td>...</td>\n",
       "      <td>600</td>\n",
       "      <td>OtherView</td>\n",
       "      <td>Na</td>\n",
       "      <td>5</td>\n",
       "      <td>10733</td>\n",
       "      <td>277</td>\n",
       "      <td>0</td>\n",
       "      <td>NaN</td>\n",
       "      <td>2821</td>\n",
       "      <td>NaN</td>\n",
       "    </tr>\n",
       "    <tr>\n",
       "      <th>347868</th>\n",
       "      <td>0</td>\n",
       "      <td>1</td>\n",
       "      <td>22</td>\n",
       "      <td>785d3b2363839d85c8e943d5eb3d8232</td>\n",
       "      <td>20131021220100316</td>\n",
       "      <td>1</td>\n",
       "      <td>D75KRK3EyeA</td>\n",
       "      <td>windows_chrome</td>\n",
       "      <td>112.98.22.*</td>\n",
       "      <td>65</td>\n",
       "      <td>...</td>\n",
       "      <td>90</td>\n",
       "      <td>OtherView</td>\n",
       "      <td>Na</td>\n",
       "      <td>4</td>\n",
       "      <td>10719</td>\n",
       "      <td>277</td>\n",
       "      <td>4</td>\n",
       "      <td>NaN</td>\n",
       "      <td>2821</td>\n",
       "      <td>10076,10075,10129,10024,10006,10110,10120,10145</td>\n",
       "    </tr>\n",
       "    <tr>\n",
       "      <th>599584</th>\n",
       "      <td>0</td>\n",
       "      <td>1</td>\n",
       "      <td>22</td>\n",
       "      <td>d54815d3e83c75ec47c347ee3b73d43d</td>\n",
       "      <td>20131021224100493</td>\n",
       "      <td>1</td>\n",
       "      <td>DALMe07izx3</td>\n",
       "      <td>windows_chrome</td>\n",
       "      <td>183.167.144.*</td>\n",
       "      <td>106</td>\n",
       "      <td>...</td>\n",
       "      <td>280</td>\n",
       "      <td>OtherView</td>\n",
       "      <td>Na</td>\n",
       "      <td>4</td>\n",
       "      <td>10720</td>\n",
       "      <td>277</td>\n",
       "      <td>4</td>\n",
       "      <td>NaN</td>\n",
       "      <td>2821</td>\n",
       "      <td>NaN</td>\n",
       "    </tr>\n",
       "    <tr>\n",
       "      <th>67879</th>\n",
       "      <td>0</td>\n",
       "      <td>1</td>\n",
       "      <td>22</td>\n",
       "      <td>75ea8b6d12a6cc5235c846430a37d233</td>\n",
       "      <td>20131021221420665</td>\n",
       "      <td>1</td>\n",
       "      <td>DALMEKAPw9k</td>\n",
       "      <td>windows_chrome</td>\n",
       "      <td>221.130.13.*</td>\n",
       "      <td>80</td>\n",
       "      <td>...</td>\n",
       "      <td>250</td>\n",
       "      <td>OtherView</td>\n",
       "      <td>Na</td>\n",
       "      <td>4</td>\n",
       "      <td>10722</td>\n",
       "      <td>277</td>\n",
       "      <td>4</td>\n",
       "      <td>NaN</td>\n",
       "      <td>2821</td>\n",
       "      <td>NaN</td>\n",
       "    </tr>\n",
       "    <tr>\n",
       "      <th>1318864</th>\n",
       "      <td>0</td>\n",
       "      <td>3</td>\n",
       "      <td>18</td>\n",
       "      <td>c35be14736d86bcb95d48293aa81ea80</td>\n",
       "      <td>20131023180600353</td>\n",
       "      <td>1</td>\n",
       "      <td>DANGI85SyZp</td>\n",
       "      <td>windows_chrome</td>\n",
       "      <td>113.96.239.*</td>\n",
       "      <td>216</td>\n",
       "      <td>...</td>\n",
       "      <td>250</td>\n",
       "      <td>OtherView</td>\n",
       "      <td>Na</td>\n",
       "      <td>4</td>\n",
       "      <td>10722</td>\n",
       "      <td>277</td>\n",
       "      <td>4</td>\n",
       "      <td>NaN</td>\n",
       "      <td>2821</td>\n",
       "      <td>NaN</td>\n",
       "    </tr>\n",
       "  </tbody>\n",
       "</table>\n",
       "<p>5 rows × 27 columns</p>\n",
       "</div>"
      ],
      "text/plain": [
       "         click  weekday  hour                             bidid  \\\n",
       "1033018      0        2    15  cfdd7b8f6421720be4d30406fd8c4ddc   \n",
       "347868       0        1    22  785d3b2363839d85c8e943d5eb3d8232   \n",
       "599584       0        1    22  d54815d3e83c75ec47c347ee3b73d43d   \n",
       "67879        0        1    22  75ea8b6d12a6cc5235c846430a37d233   \n",
       "1318864      0        3    18  c35be14736d86bcb95d48293aa81ea80   \n",
       "\n",
       "                 timestamp  logtype    ipinyouid       useragent  \\\n",
       "1033018  20131022151956815        1  DAMFJtCkxcK      windows_ie   \n",
       "347868   20131021220100316        1  D75KRK3EyeA  windows_chrome   \n",
       "599584   20131021224100493        1  DALMe07izx3  windows_chrome   \n",
       "67879    20131021221420665        1  DALMEKAPw9k  windows_chrome   \n",
       "1318864  20131023180600353        1  DANGI85SyZp  windows_chrome   \n",
       "\n",
       "                    IP  region  ...  slotheight  slotvisibility slotformat  \\\n",
       "1033018    60.177.27.*      94  ...         600       OtherView         Na   \n",
       "347868     112.98.22.*      65  ...          90       OtherView         Na   \n",
       "599584   183.167.144.*     106  ...         280       OtherView         Na   \n",
       "67879     221.130.13.*      80  ...         250       OtherView         Na   \n",
       "1318864   113.96.239.*     216  ...         250       OtherView         Na   \n",
       "\n",
       "        slotprice  creative bidprice  payprice  keypage advertiser  \\\n",
       "1033018         5     10733      277         0      NaN       2821   \n",
       "347868          4     10719      277         4      NaN       2821   \n",
       "599584          4     10720      277         4      NaN       2821   \n",
       "67879           4     10722      277         4      NaN       2821   \n",
       "1318864         4     10722      277         4      NaN       2821   \n",
       "\n",
       "                                                 usertag  \n",
       "1033018                                              NaN  \n",
       "347868   10076,10075,10129,10024,10006,10110,10120,10145  \n",
       "599584                                               NaN  \n",
       "67879                                                NaN  \n",
       "1318864                                              NaN  \n",
       "\n",
       "[5 rows x 27 columns]"
      ]
     },
     "execution_count": 73,
     "metadata": {},
     "output_type": "execute_result"
    }
   ],
   "source": [
    "adx = df_2821['adexchange'] == 2\n",
    "# sort by payprice\n",
    "sorted_adx = df_2821[adx].sort_values(by=['payprice'])\n",
    "sorted_adx.head()"
   ]
  },
  {
   "cell_type": "markdown",
   "metadata": {},
   "source": [
    "### Count number of bids by payprice"
   ]
  },
  {
   "cell_type": "code",
   "execution_count": 83,
   "metadata": {},
   "outputs": [
    {
     "data": {
      "text/html": [
       "<div>\n",
       "<style scoped>\n",
       "    .dataframe tbody tr th:only-of-type {\n",
       "        vertical-align: middle;\n",
       "    }\n",
       "\n",
       "    .dataframe tbody tr th {\n",
       "        vertical-align: top;\n",
       "    }\n",
       "\n",
       "    .dataframe thead th {\n",
       "        text-align: right;\n",
       "    }\n",
       "</style>\n",
       "<table border=\"1\" class=\"dataframe\">\n",
       "  <thead>\n",
       "    <tr style=\"text-align: right;\">\n",
       "      <th></th>\n",
       "      <th>count</th>\n",
       "    </tr>\n",
       "    <tr>\n",
       "      <th>payprice</th>\n",
       "      <th></th>\n",
       "    </tr>\n",
       "  </thead>\n",
       "  <tbody>\n",
       "    <tr>\n",
       "      <th>0</th>\n",
       "      <td>1</td>\n",
       "    </tr>\n",
       "    <tr>\n",
       "      <th>4</th>\n",
       "      <td>916</td>\n",
       "    </tr>\n",
       "    <tr>\n",
       "      <th>5</th>\n",
       "      <td>15396</td>\n",
       "    </tr>\n",
       "    <tr>\n",
       "      <th>6</th>\n",
       "      <td>2397</td>\n",
       "    </tr>\n",
       "    <tr>\n",
       "      <th>7</th>\n",
       "      <td>2709</td>\n",
       "    </tr>\n",
       "    <tr>\n",
       "      <th>8</th>\n",
       "      <td>3182</td>\n",
       "    </tr>\n",
       "    <tr>\n",
       "      <th>9</th>\n",
       "      <td>2779</td>\n",
       "    </tr>\n",
       "    <tr>\n",
       "      <th>10</th>\n",
       "      <td>3170</td>\n",
       "    </tr>\n",
       "    <tr>\n",
       "      <th>11</th>\n",
       "      <td>3164</td>\n",
       "    </tr>\n",
       "    <tr>\n",
       "      <th>12</th>\n",
       "      <td>4329</td>\n",
       "    </tr>\n",
       "  </tbody>\n",
       "</table>\n",
       "</div>"
      ],
      "text/plain": [
       "          count\n",
       "payprice       \n",
       "0             1\n",
       "4           916\n",
       "5         15396\n",
       "6          2397\n",
       "7          2709\n",
       "8          3182\n",
       "9          2779\n",
       "10         3170\n",
       "11         3164\n",
       "12         4329"
      ]
     },
     "execution_count": 83,
     "metadata": {},
     "output_type": "execute_result"
    }
   ],
   "source": [
    "counts = sorted_adx['payprice'].reset_index()\n",
    "counts = counts.groupby(by=\"payprice\").count()[['index']]\n",
    "counts.rename(columns={'index':'count'}, inplace=True)\n",
    "counts.head(10)"
   ]
  },
  {
   "cell_type": "markdown",
   "metadata": {},
   "source": [
    "### Calculate cumulaltive stats"
   ]
  },
  {
   "cell_type": "code",
   "execution_count": 84,
   "metadata": {},
   "outputs": [
    {
     "data": {
      "text/html": [
       "<div>\n",
       "<style scoped>\n",
       "    .dataframe tbody tr th:only-of-type {\n",
       "        vertical-align: middle;\n",
       "    }\n",
       "\n",
       "    .dataframe tbody tr th {\n",
       "        vertical-align: top;\n",
       "    }\n",
       "\n",
       "    .dataframe thead th {\n",
       "        text-align: right;\n",
       "    }\n",
       "</style>\n",
       "<table border=\"1\" class=\"dataframe\">\n",
       "  <thead>\n",
       "    <tr style=\"text-align: right;\">\n",
       "      <th></th>\n",
       "      <th>count</th>\n",
       "      <th>cumsum_count</th>\n",
       "      <th>bracket_cost</th>\n",
       "      <th>cumsum_cost</th>\n",
       "      <th>cummean_cost</th>\n",
       "    </tr>\n",
       "    <tr>\n",
       "      <th>payprice</th>\n",
       "      <th></th>\n",
       "      <th></th>\n",
       "      <th></th>\n",
       "      <th></th>\n",
       "      <th></th>\n",
       "    </tr>\n",
       "  </thead>\n",
       "  <tbody>\n",
       "    <tr>\n",
       "      <th>0</th>\n",
       "      <td>1</td>\n",
       "      <td>1</td>\n",
       "      <td>0</td>\n",
       "      <td>0</td>\n",
       "      <td>0.000000</td>\n",
       "    </tr>\n",
       "    <tr>\n",
       "      <th>4</th>\n",
       "      <td>916</td>\n",
       "      <td>917</td>\n",
       "      <td>3664</td>\n",
       "      <td>3664</td>\n",
       "      <td>3.995638</td>\n",
       "    </tr>\n",
       "    <tr>\n",
       "      <th>5</th>\n",
       "      <td>15396</td>\n",
       "      <td>16313</td>\n",
       "      <td>76980</td>\n",
       "      <td>80644</td>\n",
       "      <td>4.943542</td>\n",
       "    </tr>\n",
       "    <tr>\n",
       "      <th>6</th>\n",
       "      <td>2397</td>\n",
       "      <td>18710</td>\n",
       "      <td>14382</td>\n",
       "      <td>95026</td>\n",
       "      <td>5.078888</td>\n",
       "    </tr>\n",
       "    <tr>\n",
       "      <th>7</th>\n",
       "      <td>2709</td>\n",
       "      <td>21419</td>\n",
       "      <td>18963</td>\n",
       "      <td>113989</td>\n",
       "      <td>5.321864</td>\n",
       "    </tr>\n",
       "    <tr>\n",
       "      <th>8</th>\n",
       "      <td>3182</td>\n",
       "      <td>24601</td>\n",
       "      <td>25456</td>\n",
       "      <td>139445</td>\n",
       "      <td>5.668266</td>\n",
       "    </tr>\n",
       "    <tr>\n",
       "      <th>9</th>\n",
       "      <td>2779</td>\n",
       "      <td>27380</td>\n",
       "      <td>25011</td>\n",
       "      <td>164456</td>\n",
       "      <td>6.006428</td>\n",
       "    </tr>\n",
       "    <tr>\n",
       "      <th>10</th>\n",
       "      <td>3170</td>\n",
       "      <td>30550</td>\n",
       "      <td>31700</td>\n",
       "      <td>196156</td>\n",
       "      <td>6.420818</td>\n",
       "    </tr>\n",
       "    <tr>\n",
       "      <th>11</th>\n",
       "      <td>3164</td>\n",
       "      <td>33714</td>\n",
       "      <td>34804</td>\n",
       "      <td>230960</td>\n",
       "      <td>6.850567</td>\n",
       "    </tr>\n",
       "    <tr>\n",
       "      <th>12</th>\n",
       "      <td>4329</td>\n",
       "      <td>38043</td>\n",
       "      <td>51948</td>\n",
       "      <td>282908</td>\n",
       "      <td>7.436532</td>\n",
       "    </tr>\n",
       "  </tbody>\n",
       "</table>\n",
       "</div>"
      ],
      "text/plain": [
       "          count  cumsum_count  bracket_cost  cumsum_cost  cummean_cost\n",
       "payprice                                                              \n",
       "0             1             1             0            0      0.000000\n",
       "4           916           917          3664         3664      3.995638\n",
       "5         15396         16313         76980        80644      4.943542\n",
       "6          2397         18710         14382        95026      5.078888\n",
       "7          2709         21419         18963       113989      5.321864\n",
       "8          3182         24601         25456       139445      5.668266\n",
       "9          2779         27380         25011       164456      6.006428\n",
       "10         3170         30550         31700       196156      6.420818\n",
       "11         3164         33714         34804       230960      6.850567\n",
       "12         4329         38043         51948       282908      7.436532"
      ]
     },
     "execution_count": 84,
     "metadata": {},
     "output_type": "execute_result"
    }
   ],
   "source": [
    "counts['cumsum_count'] = counts['count'].cumsum()\n",
    "counts['bracket_cost'] = counts['count'] * counts.index \n",
    "counts['cumsum_cost'] = counts['bracket_cost'].cumsum()\n",
    "counts['cummean_cost'] = counts['cumsum_cost'] / counts['cumsum_count']\n",
    "counts.head(10)"
   ]
  },
  {
   "cell_type": "markdown",
   "metadata": {},
   "source": [
    "# Plots\n",
    "\n",
    "## Cumulative Impressions as bid price increases\n",
    "$KPI_i(x_i)$ \n",
    "\n",
    "where KPI = Impressions, i = 2(Google adx)"
   ]
  },
  {
   "cell_type": "code",
   "execution_count": 78,
   "metadata": {},
   "outputs": [
    {
     "data": {
      "image/png": "[encoded data removed]",
      "text/plain": [
       "<Figure size 432x288 with 1 Axes>"
      ]
     },
     "metadata": {
      "needs_background": "light"
     },
     "output_type": "display_data"
    }
   ],
   "source": [
    "plt.plot(counts['cumsum_count'])\n",
    "plt.show()"
   ]
  },
  {
   "cell_type": "markdown",
   "metadata": {},
   "source": [
    "## Cumulative Cost as bid price increases\n",
    "$KPI_i(x_i) * AP_i(x_i)$ \n",
    "\n",
    "where KPI = Impressions, i = 2(Google adx)"
   ]
  },
  {
   "cell_type": "code",
   "execution_count": 79,
   "metadata": {},
   "outputs": [
    {
     "data": {
      "image/png": "[encoded data removed]",
      "text/plain": [
       "<Figure size 432x288 with 1 Axes>"
      ]
     },
     "metadata": {
      "needs_background": "light"
     },
     "output_type": "display_data"
    }
   ],
   "source": [
    "plt.plot(counts['cumsum_cost'])\n",
    "plt.show()"
   ]
  },
  {
   "cell_type": "markdown",
   "metadata": {},
   "source": [
    "## Cumulative Average pay price as bid price increases\n",
    "$AP_i(x_i)$ \n",
    "\n",
    "where KPI = Impressions, i = 2(Google adx)"
   ]
  },
  {
   "cell_type": "code",
   "execution_count": 80,
   "metadata": {},
   "outputs": [
    {
     "data": {
      "image/png": "[encoded data removed]",
      "text/plain": [
       "<Figure size 432x288 with 1 Axes>"
      ]
     },
     "metadata": {
      "needs_background": "light"
     },
     "output_type": "display_data"
    }
   ],
   "source": [
    "plt.plot(counts['cummean_cost'])\n",
    "plt.show()"
   ]
  },
  {
   "cell_type": "code",
   "execution_count": null,
   "metadata": {},
   "outputs": [],
   "source": []
  },
  {
   "cell_type": "markdown",
   "metadata": {},
   "source": [
    "## Model the budget_i as decision variable directly\n",
    "\n",
    "$\\Sigma_i y_i \\le Budget$\n",
    "\n",
    "where $y_i$ is the total budget allocated for website i"
   ]
  },
  {
   "cell_type": "code",
   "execution_count": 163,
   "metadata": {},
   "outputs": [],
   "source": [
    "y = sorted_adx[['payprice']].cumsum()\n",
    "y[\"impressions\"] = np.arange(len(y))"
   ]
  },
  {
   "cell_type": "code",
   "execution_count": 164,
   "metadata": {},
   "outputs": [],
   "source": [
    "y.columns = ['y', 'impressions']"
   ]
  },
  {
   "cell_type": "markdown",
   "metadata": {},
   "source": [
    "## Scatter Plot"
   ]
  },
  {
   "cell_type": "code",
   "execution_count": 178,
   "metadata": {},
   "outputs": [
    {
     "data": {
      "image/png": "[encoded data removed]",
      "text/plain": [
       "<Figure size 864x432 with 1 Axes>"
      ]
     },
     "metadata": {
      "needs_background": "light"
     },
     "output_type": "display_data"
    }
   ],
   "source": [
    "plt.subplots(figsize=(12,6))\n",
    "plt.scatter(y['y'], y['impressions'], marker='.', c='b', alpha=0.002)\n",
    "plt.show()"
   ]
  },
  {
   "cell_type": "markdown",
   "metadata": {},
   "source": [
    "## Fit curve 1"
   ]
  },
  {
   "cell_type": "code",
   "execution_count": 184,
   "metadata": {},
   "outputs": [
    {
     "name": "stderr",
     "output_type": "stream",
     "text": [
      "/Users/zhongqihua/anaconda3/envs/bio/lib/python3.6/site-packages/pandas/core/series.py:856: RuntimeWarning: overflow encountered in exp\n",
      "  result = getattr(ufunc, method)(*inputs, **kwargs)\n"
     ]
    },
    {
     "data": {
      "image/png": "[encoded data removed]",
      "text/plain": [
       "<Figure size 864x432 with 1 Axes>"
      ]
     },
     "metadata": {
      "needs_background": "light"
     },
     "output_type": "display_data"
    }
   ],
   "source": [
    "def func(x, a, b, c):\n",
    "    return a * np.exp(-b * x) + c\n",
    "\n",
    "\n",
    "popt, pcov = curve_fit(func, y['y'], y['impressions'])\n",
    "\n",
    "plt.subplots(figsize=(12,6))\n",
    "plt.plot(y['y'], y['impressions'], 'b.', label=\"Original Noised Data\")\n",
    "plt.plot(y['y'], func(y['y'], *popt), 'r-', label=\"Fitted Curve\")\n",
    "plt.legend()\n",
    "plt.show()"
   ]
  },
  {
   "cell_type": "markdown",
   "metadata": {},
   "source": [
    "## Fit curve 2"
   ]
  },
  {
   "cell_type": "code",
   "execution_count": 195,
   "metadata": {},
   "outputs": [
    {
     "data": {
      "image/png": "[encoded data removed]",
      "text/plain": [
       "<Figure size 864x432 with 1 Axes>"
      ]
     },
     "metadata": {
      "needs_background": "light"
     },
     "output_type": "display_data"
    }
   ],
   "source": [
    "def func(x, a, b, c, d):\n",
    "    return a * np.power(b * x/1000, c) + d\n",
    "\n",
    "\n",
    "popt, pcov = curve_fit(func, y['y'], y['impressions'])\n",
    "\n",
    "plt.subplots(figsize=(12,6))\n",
    "plt.plot(y['y'], y['impressions'], 'b.', label=\"Original Noised Data\")\n",
    "plt.plot(y['y'], func(y['y'], *popt), 'r-', label=\"Fitted Curve\")\n",
    "plt.legend()\n",
    "plt.show()"
   ]
  },
  {
   "cell_type": "code",
   "execution_count": 196,
   "metadata": {},
   "outputs": [
    {
     "data": {
      "text/plain": [
       "array([ 6.54301602e+02,  3.44588487e+02,  3.82194499e-01, -1.45236276e+04])"
      ]
     },
     "execution_count": 196,
     "metadata": {},
     "output_type": "execute_result"
    }
   ],
   "source": [
    "popt"
   ]
  },
  {
   "cell_type": "code",
   "execution_count": null,
   "metadata": {},
   "outputs": [],
   "source": []
  }
 ],
 "metadata": {
  "kernelspec": {
   "display_name": "Python 3",
   "language": "python",
   "name": "python3"
  },
  "language_info": {
   "codemirror_mode": {
    "name": "ipython",
    "version": 3
   },
   "file_extension": ".py",
   "mimetype": "text/x-python",
   "name": "python",
   "nbconvert_exporter": "python",
   "pygments_lexer": "ipython3",
   "version": "3.6.5"
  }
 },
 "nbformat": 4,
 "nbformat_minor": 2
}
